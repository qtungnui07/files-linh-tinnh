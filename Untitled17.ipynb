{
  "nbformat": 4,
  "nbformat_minor": 0,
  "metadata": {
    "colab": {
      "provenance": []
    },
    "kernelspec": {
      "name": "python3",
      "display_name": "Python 3"
    },
    "language_info": {
      "name": "python"
    }
  },
  "cells": [
    {
      "cell_type": "code",
      "source": [
        "from transformers import AutoTokenizer, AutoModelForSeq2SeqLM\n",
        "\n",
        "tokenizer_en2vi = AutoTokenizer.from_pretrained(\"vinai/vinai-translate-en2vi-v2\", src_lang=\"en_XX\")\n",
        "model_en2vi = AutoModelForSeq2SeqLM.from_pretrained(\"vinai/vinai-translate-en2vi-v2\")\n",
        "\n",
        "def translate_en2vi(en_text: str) -> str:\n",
        "    input_ids = tokenizer_en2vi(en_text, return_tensors=\"pt\").input_ids\n",
        "    output_ids = model_en2vi.generate(\n",
        "        input_ids,\n",
        "        decoder_start_token_id=tokenizer_en2vi.lang_code_to_id[\"vi_VN\"],\n",
        "        num_return_sequences=1,\n",
        "        num_beams=5,\n",
        "        early_stopping=True\n",
        "    )\n",
        "    vi_text = tokenizer_en2vi.batch_decode(output_ids, skip_special_tokens=True)\n",
        "    vi_text = \" \".join(vi_text)\n",
        "    return vi_text\n",
        "\n",
        "en_text = \"I haven't been to a public gym before. When I exercise in a private space, I feel more comfortable.\"\n",
        "print(translate_en2vi(en_text))\n",
        "\n",
        "en_text = \"i haven't been to a public gym before when i exercise in a private space i feel more comfortable\"\n",
        "print(translate_en2vi(en_text))"
      ],
      "metadata": {
        "colab": {
          "base_uri": "https://localhost:8080/"
        },
        "id": "NsIe5lfMO4eB",
        "outputId": "518bb5a9-fdfa-49a9-bb43-cda49c115aa4"
      },
      "execution_count": 6,
      "outputs": [
        {
          "output_type": "stream",
          "name": "stdout",
          "text": [
            "Tôi chưa từng đến phòng tập thể dục công cộng trước đây. Khi tôi tập thể dục trong một không gian riêng tư, tôi cảm thấy thoải mái hơn.\n",
            "Tôi chưa từng đến phòng tập thể dục công cộng trước đây. Khi tôi tập thể dục trong một không gian riêng tư, tôi cảm thấy thoải mái hơn\n"
          ]
        }
      ]
    }
  ]
}